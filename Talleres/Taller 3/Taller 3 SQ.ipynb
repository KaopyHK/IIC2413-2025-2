{
  "cells": [
    {
      "cell_type": "markdown",
      "id": "3beabadc",
      "metadata": {
        "id": "3beabadc"
      },
      "source": [
        "# 🧠 Taller 3 - SQL\n",
        "\n",
        "Este taller está diseñado para que practiques consultas SQL usando `ipython-sql` y una base de datos sobre competencias de gimnasia rítmica. A lo largo del taller, trabajarás con tablas que representan gimnastas, conjuntos, campeonatos, instrumentos y evaluaciones.\n",
        "\n",
        "**Objetivos del taller:**\n",
        "- Aprender a crear tablas con claves primarias y foráneas.\n",
        "- Insertar datos en una base SQLite.\n",
        "- Realizar consultas básicas y avanzadas con SQL.\n",
        "- Aplicar funciones de agregación y subconsultas.\n",
        "\n",
        "### Esquema\n",
        "\n",
        "Para esta actividad vamos a trabajar con el siguiente esquema:\n",
        "\n",
        "- `Gimnastas(id_gim, nombre, fecha_nac, id_conj)`\n",
        "- `Conjunto(id_conj, nombre conj)`\n",
        "- `Instrumento(id_inst, nombre_inst)`\n",
        "- `Campeonato(id_camp, nom_camp, fecha_camp)`\n",
        "- `Tipo(id_tipo, nom_tipo)`\n",
        "- `Presentacion(id_pres, id_gim, id_conj, id_inst, id_camp, id_tipo)`\n",
        "- `Evaluacion(Pje_eje, Pje_Dif, Pje_art, id_pres)`\n"
      ]
    },
    {
      "cell_type": "code",
      "execution_count": null,
      "id": "15306f45",
      "metadata": {
        "id": "15306f45"
      },
      "outputs": [],
      "source": [
        "%load_ext sql\n",
        "%sql sqlite:///gimnasia.db"
      ]
    },
    {
      "cell_type": "markdown",
      "source": [
        "**Ojo**: cada vez que anteponemos `%sql` es porque esa línea corresponde a un comando a SQL que va a la base de datos en la que estamos trabajando (en este caso `gimnasia.db`). Si queremos tener todo un bloque con instrucciones SQL tenemos que usar `%%sql` (habrán ejemplos de esto a lo largo del _notebook_)."
      ],
      "metadata": {
        "id": "ne1ZHaIGG1lc"
      },
      "id": "ne1ZHaIGG1lc"
    },
    {
      "cell_type": "code",
      "source": [],
      "metadata": {
        "id": "icVzoDudUzj1"
      },
      "id": "icVzoDudUzj1",
      "execution_count": null,
      "outputs": []
    },
    {
      "cell_type": "markdown",
      "source": [
        "### Crear tablas\n",
        "\n",
        "Tu primera prueba será crear una base de datos de acuerdo el esquema de arriba. La sintaxis para crear tablas en SQL es la siguiente (si están trabajando desde el cliente, después de cada sentencia SQL debes poner un punto y coma `;`):\n",
        "\n",
        "```SQL\n",
        "CREATE TABLE <Nombre Tabla> (<atributo_1> tipo, ... , <attributo_N> tipo)\n",
        "```\n",
        "\n",
        "Por ejemplo, para crear las tablas de esta actividad el código es el siguiente:"
      ],
      "metadata": {
        "id": "q63e7caNHHyh"
      },
      "id": "q63e7caNHHyh"
    },
    {
      "cell_type": "code",
      "execution_count": null,
      "id": "a4f96e0e",
      "metadata": {
        "id": "a4f96e0e"
      },
      "outputs": [],
      "source": [
        "\n",
        "%%sql\n",
        "\n",
        "DROP TABLE IF EXISTS Gimnastas;\n",
        "DROP TABLE IF EXISTS Conjuntos;\n",
        "DROP TABLE IF EXISTS Instrumentos;\n",
        "DROP TABLE IF EXISTS Campeonatos;\n",
        "DROP TABLE IF EXISTS Tipos;\n",
        "DROP TABLE IF EXISTS Presentaciones;\n",
        "DROP TABLE IF EXISTS Evaluaciones;\n",
        "\n",
        "CREATE TABLE Conjuntos (\n",
        "    id_conj INTEGER PRIMARY KEY,\n",
        "    nombre_conj TEXT\n",
        ");\n",
        "\n",
        "CREATE TABLE Gimnastas (\n",
        "    id_gim INTEGER PRIMARY KEY,\n",
        "    nombre TEXT,\n",
        "    fecha_nac TEXT,\n",
        "    id_conj INTEGER,\n",
        "    FOREIGN KEY (id_conj) REFERENCES Conjuntos(id_conj)\n",
        ");\n",
        "\n",
        "CREATE TABLE Instrumentos (\n",
        "    id_inst INTEGER PRIMARY KEY,\n",
        "    nombre_inst TEXT\n",
        ");\n",
        "\n",
        "CREATE TABLE Campeonatos (\n",
        "    id_camp INTEGER PRIMARY KEY,\n",
        "    nombre_camp TEXT,\n",
        "    fecha_camp TEXT\n",
        ");\n",
        "\n",
        "CREATE TABLE Tipos (\n",
        "    id_tipo INTEGER PRIMARY KEY,\n",
        "    nombre_tipo TEXT\n",
        ");\n",
        "\n",
        "CREATE TABLE Presentaciones (\n",
        "    id_pres INTEGER PRIMARY KEY,\n",
        "    id_gim INTEGER,\n",
        "    id_conj INTEGER,\n",
        "    id_inst INTEGER,\n",
        "    id_camp INTEGER,\n",
        "    id_tipo INTEGER,\n",
        "    FOREIGN KEY (id_gim) REFERENCES Gimnastas(id_gim),\n",
        "    FOREIGN KEY (id_conj) REFERENCES Conjuntos(id_conj),\n",
        "    FOREIGN KEY (id_inst) REFERENCES Instrumentos(id_inst),\n",
        "    FOREIGN KEY (id_camp) REFERENCES Campeonatos(id_camp),\n",
        "    FOREIGN KEY (id_tipo) REFERENCES Tipos(id_tipo)\n",
        ");\n",
        "\n",
        "CREATE TABLE Evaluaciones (\n",
        "    id_pres INTEGER,\n",
        "    pje_eje REAL,\n",
        "    pje_dif REAL,\n",
        "    pje_art REAL,\n",
        "    PRIMARY KEY (id_pres, pje_eje, pje_art, pje_dif),\n",
        "    FOREIGN KEY (id_pres) REFERENCES Presentaciones(id_pres)\n",
        ");\n"
      ]
    },
    {
      "cell_type": "markdown",
      "source": [
        "En el código anterior, tenemos tablas con llave primaria compuesta. En general, para crear una tabla con llave primaria, lo señalamos al final, de la forma:\n",
        "\n",
        "```SQL\n",
        "CREATE TABLE <Nombre Tabla> (\n",
        "    <atributo_1> tipo, ...,\n",
        "    <attributo_N> tipo,\n",
        "    PRIMARY KEY(<atributos separados por coma (,)>))\n",
        "```"
      ],
      "metadata": {
        "id": "AHMMSlEnMMd2"
      },
      "id": "AHMMSlEnMMd2"
    },
    {
      "cell_type": "markdown",
      "source": [
        "Si la tabla tiene llaves foráneas que hacen referencia a un campo de otra tabla, la sintaxis es la siguiente:\n",
        "\n",
        "```SQL\n",
        "CREATE TABLE <Nombre Tabla> (\n",
        "    <atributo_1> tipo, ...,\n",
        "    <attributo_N> tipo,\n",
        "    PRIMARY KEY(<atributos separados por coma (,)>)\n",
        "    FOREIGN KEY (atributo_X) REFERENCES TABLA(atributo_foraneo))\n",
        "```"
      ],
      "metadata": {
        "id": "c5Csk2p6Mm9X"
      },
      "id": "c5Csk2p6Mm9X"
    },
    {
      "cell_type": "markdown",
      "source": [
        "Si ejecutamos la consulta `SELECT * FROM Conjuntos` notaremos que el resultado es vacío. Esto es evidente, ya que esta consulta me retorna todo lo que tengo en la tabla `Conjuntos` y actualmente no hemos insertado nada."
      ],
      "metadata": {
        "id": "3V_j_qTlPFKl"
      },
      "id": "3V_j_qTlPFKl"
    },
    {
      "cell_type": "code",
      "source": [
        "%config SqlMagic.style = '_DEPRECATED_DEFAULT'\n",
        "%sql Select * from Conjuntos;"
      ],
      "metadata": {
        "id": "O82e2ZeBUHV6"
      },
      "id": "O82e2ZeBUHV6",
      "execution_count": null,
      "outputs": []
    },
    {
      "cell_type": "markdown",
      "source": [
        "### Innsertar Valores\n",
        "\n",
        "Para insertar valores, la forma básica es la siguiente:\n",
        "\n",
        "```SQL\n",
        "INSERT INTO <Nombre Tabla>\n",
        "VALUES (<valor atributo 1> , ..., <valor atributo N>)\n",
        "```\n",
        "\n",
        "Por ejemplo si ejecutamos la consulta:\n",
        "\n",
        "```SQL\n",
        "INSERT INTO Conjuntos VALUES (1, 'Estrellas');\n",
        "```\n",
        "\n",
        "estamos insertando un Conjunto con `id_conj` 1 y `nombre_conj` Estrellas.\n"
      ],
      "metadata": {
        "id": "7WIVbrDMNmIB"
      },
      "id": "7WIVbrDMNmIB"
    },
    {
      "cell_type": "code",
      "source": [
        "%sql INSERT INTO Conjuntos VALUES (1, 'Estrellas');"
      ],
      "metadata": {
        "id": "DH0lbcN0W97w"
      },
      "id": "DH0lbcN0W97w",
      "execution_count": null,
      "outputs": []
    },
    {
      "cell_type": "markdown",
      "source": [
        "Ahora que hemos insertado nuestro primer registro en la base de datos, podremos ejecutar nuevamente la consulta sobre la tabla `Conjuntos` y obtendremos un resultado distinto."
      ],
      "metadata": {
        "id": "jkdbeBZBXKbu"
      },
      "id": "jkdbeBZBXKbu"
    },
    {
      "cell_type": "code",
      "source": [
        "%sql Select * from Conjuntos;"
      ],
      "metadata": {
        "id": "FzV2edMbXHuT"
      },
      "id": "FzV2edMbXHuT",
      "execution_count": null,
      "outputs": []
    },
    {
      "cell_type": "markdown",
      "source": [
        "A continuación está el código para poblar todas las tablas de la base de datos"
      ],
      "metadata": {
        "id": "yrSl-DwZXv6v"
      },
      "id": "yrSl-DwZXv6v"
    },
    {
      "cell_type": "code",
      "execution_count": null,
      "id": "edd231f9",
      "metadata": {
        "id": "edd231f9"
      },
      "outputs": [],
      "source": [
        "\n",
        "%%sql\n",
        "\n",
        "-- Insertar conjuntos\n",
        "INSERT INTO Conjuntos VALUES (2, 'Fantásticas');\n",
        "INSERT INTO Conjuntos VALUES (3, 'Auroras');\n",
        "\n",
        "-- Insertar gimnastas\n",
        "INSERT INTO Gimnastas VALUES (1, 'Ana Torres', '2005-03-12', 1);\n",
        "INSERT INTO Gimnastas VALUES (2, 'Lucía Pérez', '2006-07-25', 1);\n",
        "INSERT INTO Gimnastas VALUES (3, 'María Gómez', '2004-11-05', 2);\n",
        "\n",
        "-- Insertar instrumentos\n",
        "INSERT INTO Instrumentos VALUES (1, 'Cinta');\n",
        "INSERT INTO Instrumentos VALUES (2, 'Aro');\n",
        "INSERT INTO Instrumentos VALUES (3, 'Manos libres');\n",
        "\n",
        "-- Insertar campeonatos\n",
        "INSERT INTO Campeonatos VALUES (1, 'Campeonato Nacional', '2023-06-15');\n",
        "INSERT INTO Campeonatos VALUES (2, 'Copa Primavera', '2023-09-10');\n",
        "INSERT INTO Campeonatos VALUES (3, 'Copa Invierno', '2025-06-10');\n",
        "\n",
        "\n",
        "-- Insertar tipos\n",
        "INSERT INTO Tipos VALUES (1, 'Individual');\n",
        "INSERT INTO Tipos VALUES (2, 'Conjunto');\n",
        "\n",
        "-- Insertar presentaciones\n",
        "INSERT INTO Presentaciones VALUES (1, 1, NULL, 1, 1, 1);\n",
        "INSERT INTO Presentaciones VALUES (2, NULL, 1, 2, 1, 2);\n",
        "INSERT INTO Presentaciones VALUES (3, 3, NULL, 3, 2, 1);\n",
        "\n",
        "-- Insertar evaluaciones\n",
        "INSERT INTO Evaluaciones VALUES (1, 8.5, 9.0, 8.8);\n",
        "INSERT INTO Evaluaciones VALUES (2, 9.2, 8.7, 9.0);\n",
        "INSERT INTO Evaluaciones VALUES (3, 7.8, 8.0, 8.5);\n"
      ]
    },
    {
      "cell_type": "markdown",
      "source": [],
      "metadata": {
        "id": "JY3pNlIpMzxq"
      },
      "id": "JY3pNlIpMzxq"
    },
    {
      "cell_type": "markdown",
      "source": [
        "Si intentamos ejecutar nuevamente el siguiente código nuevamente, obtendremos un error. No es posible insertar 2 tuplas con la misma llave.\n",
        "\n",
        "```SQL\n",
        "INSERT INTO Conjuntos VALUES (1, 'Estrellas');\n",
        "```"
      ],
      "metadata": {
        "id": "ToJJXGjIX4QR"
      },
      "id": "ToJJXGjIX4QR"
    },
    {
      "cell_type": "code",
      "source": [
        "%sql INSERT INTO Conjuntos VALUES (1, 'Estrellas');"
      ],
      "metadata": {
        "id": "bRdsCGilM15X"
      },
      "id": "bRdsCGilM15X",
      "execution_count": null,
      "outputs": []
    },
    {
      "cell_type": "markdown",
      "source": [
        "### Ejecución de Consultas\n",
        "\n",
        "Las consultas más básicas son de la forma `SELECT - FROM - WHERE`. En general, la consulta de álgebra relacional:\n",
        "\n",
        "$$\n",
        "\\pi_{a_1, \\dots, a_n}(\\sigma_{\\text{condiciones}}(R_1 \\times R_m))\n",
        "$$\n",
        "\n",
        "se traduce en SQL como:\n",
        "\n",
        "```SQL\n",
        "SELECT a_1, ..., a_n\n",
        "FROM R_1, ..., R_m\n",
        "WHERE <condiciones>\n",
        "```\n",
        "Prueba la siguiente consulta:"
      ],
      "metadata": {
        "id": "K_lk_OOkYpcr"
      },
      "id": "K_lk_OOkYpcr"
    },
    {
      "cell_type": "code",
      "source": [
        "%%sql\n",
        "Select *\n",
        "From Gimnastas\n",
        "Where id_gim = 1;"
      ],
      "metadata": {
        "id": "AMcxt99lYpJr"
      },
      "id": "AMcxt99lYpJr",
      "execution_count": null,
      "outputs": []
    },
    {
      "cell_type": "markdown",
      "source": [
        "Para realizar un Join de tablas la sintaxis es\n",
        "```SQL\n",
        "SELECT a_1, ..., a_n\n",
        "FROM R_1, ..., R_m\n",
        "WHERE R_1.a_1 = R_j.aj;\n",
        "```\n",
        "Probemos ejecutando las siguientes consultas que obtiene la información de las gimnastas que pertenecen al conjunto **Estrellas**.\n",
        "\n",
        "Se incluyen las sintaxis usando `Where` o usando `Join`\n"
      ],
      "metadata": {
        "id": "r29zMmsXZsew"
      },
      "id": "r29zMmsXZsew"
    },
    {
      "cell_type": "code",
      "source": [
        "%%sql\n",
        "Select *\n",
        "From Gimnastas as G,\n",
        "  Conjuntos as C\n",
        "Where G.id_conj = C.id_conj\n",
        "  And C.nombre_conj = 'Estrellas';"
      ],
      "metadata": {
        "id": "bveIwdUlb-gk"
      },
      "id": "bveIwdUlb-gk",
      "execution_count": null,
      "outputs": []
    },
    {
      "cell_type": "code",
      "source": [
        "%%sql\n",
        "Select *\n",
        "From Gimnastas as G\n",
        "  Join Conjuntos as C On G.id_conj = C.id_conj\n",
        "Where C.nombre_conj = 'Estrellas';"
      ],
      "metadata": {
        "id": "h5OQVye3c9aD"
      },
      "id": "h5OQVye3c9aD",
      "execution_count": null,
      "outputs": []
    },
    {
      "cell_type": "markdown",
      "id": "613ca83e",
      "metadata": {
        "id": "613ca83e"
      },
      "source": [
        "## 🏋️ Ejercicios\n",
        "\n",
        "Responde los siguientes ejercicios usando consultas SQL.\n",
        "\n",
        "**1.** Listar todos los campeonatos que se realizaron en el año 2023.\n",
        "\n",
        "\n",
        "\n",
        "\n",
        "\n",
        "\n",
        "\n",
        "\n",
        "\n",
        "\n",
        "\n",
        "\n",
        "\n",
        "\n",
        "\n",
        "\n",
        "\n",
        "\n",
        "\n",
        "\n",
        "\n",
        "\n",
        "\n"
      ]
    },
    {
      "cell_type": "code",
      "source": [
        "%%sql\n"
      ],
      "metadata": {
        "id": "u6l4cvNoqEg_"
      },
      "id": "u6l4cvNoqEg_",
      "execution_count": null,
      "outputs": []
    },
    {
      "cell_type": "markdown",
      "source": [
        "**2.** Listar todas las gimnastas menores de 18 años."
      ],
      "metadata": {
        "id": "lG9yxvPEqRYb"
      },
      "id": "lG9yxvPEqRYb"
    },
    {
      "cell_type": "code",
      "source": [],
      "metadata": {
        "id": "1do_X4htqIXE"
      },
      "id": "1do_X4htqIXE",
      "execution_count": null,
      "outputs": []
    },
    {
      "cell_type": "markdown",
      "source": [
        "**3.** Insertar los instrumentos `Balón` y `Àro` en la tabla instrumentos"
      ],
      "metadata": {
        "id": "0C87O4d2qUux"
      },
      "id": "0C87O4d2qUux"
    },
    {
      "cell_type": "code",
      "source": [],
      "metadata": {
        "id": "QMckICjIqKYy"
      },
      "id": "QMckICjIqKYy",
      "execution_count": null,
      "outputs": []
    },
    {
      "cell_type": "markdown",
      "source": [
        "**4.** Crear presentaciones `Ìndividuales` con los instrumentos `Balón`y `Àro`."
      ],
      "metadata": {
        "id": "axPJK2cgqaQZ"
      },
      "id": "axPJK2cgqaQZ"
    },
    {
      "cell_type": "code",
      "source": [],
      "metadata": {
        "id": "ZhbDtZJAqKPJ"
      },
      "id": "ZhbDtZJAqKPJ",
      "execution_count": null,
      "outputs": []
    },
    {
      "cell_type": "markdown",
      "source": [
        "**5.** Crear presentaciones `Conjunto` con los instrumentos `Balón`y `Àro`."
      ],
      "metadata": {
        "id": "t1cV4nMVqg_o"
      },
      "id": "t1cV4nMVqg_o"
    },
    {
      "cell_type": "code",
      "source": [],
      "metadata": {
        "id": "NUpa-JkmqKE_"
      },
      "id": "NUpa-JkmqKE_",
      "execution_count": null,
      "outputs": []
    },
    {
      "cell_type": "markdown",
      "source": [
        "**6.** Listar todas las gimnastas con el nombre de su conjunto."
      ],
      "metadata": {
        "id": "tu0gaxniqq0h"
      },
      "id": "tu0gaxniqq0h"
    },
    {
      "cell_type": "code",
      "source": [],
      "metadata": {
        "id": "4DHxanpnqJ5A"
      },
      "id": "4DHxanpnqJ5A",
      "execution_count": null,
      "outputs": []
    },
    {
      "cell_type": "markdown",
      "source": [
        "**7.** Mostrar las presentaciones individuales con el nombre del instrumento y el puntaje artístico."
      ],
      "metadata": {
        "id": "DroQsiZnqvWq"
      },
      "id": "DroQsiZnqvWq"
    },
    {
      "cell_type": "code",
      "source": [],
      "metadata": {
        "id": "OgnqMyTmqJfN"
      },
      "id": "OgnqMyTmqJfN",
      "execution_count": null,
      "outputs": []
    },
    {
      "cell_type": "markdown",
      "source": [
        "\n",
        "**8.** Listar los nombres de los conjuntos que han participado en el 'Campeonato Nacional'."
      ],
      "metadata": {
        "id": "KdUntewFq0Tl"
      },
      "id": "KdUntewFq0Tl"
    },
    {
      "cell_type": "code",
      "source": [],
      "metadata": {
        "id": "7aIp6onjqI-r"
      },
      "id": "7aIp6onjqI-r",
      "execution_count": null,
      "outputs": []
    },
    {
      "cell_type": "markdown",
      "source": [
        "**9.** Mostrar el nombre de la gimnasta con el mayor puntaje de dificultad."
      ],
      "metadata": {
        "id": "Xd8-_U1Dq4fg"
      },
      "id": "Xd8-_U1Dq4fg"
    },
    {
      "cell_type": "code",
      "source": [],
      "metadata": {
        "id": "f23iv5qqqrff"
      },
      "id": "f23iv5qqqrff",
      "execution_count": null,
      "outputs": []
    },
    {
      "cell_type": "markdown",
      "source": [
        "**10.** Contar cuántas presentaciones se han realizado por cada instrumento."
      ],
      "metadata": {
        "id": "UIxkiz4Vq9is"
      },
      "id": "UIxkiz4Vq9is"
    },
    {
      "cell_type": "code",
      "source": [],
      "metadata": {
        "id": "lOlnHqpprHoA"
      },
      "id": "lOlnHqpprHoA",
      "execution_count": null,
      "outputs": []
    },
    {
      "cell_type": "markdown",
      "source": [
        "**11.** Listar los campeonatos en los que ha participado la gimnasta 'Ana Torres'."
      ],
      "metadata": {
        "id": "V2XLQT7orMRq"
      },
      "id": "V2XLQT7orMRq"
    },
    {
      "cell_type": "code",
      "source": [],
      "metadata": {
        "id": "swMDkuTurVPt"
      },
      "id": "swMDkuTurVPt",
      "execution_count": null,
      "outputs": []
    },
    {
      "cell_type": "markdown",
      "source": [
        "**12.** Listar todas las presentaciones junto con el nombre del campeonato, tipo de presentación y puntajes."
      ],
      "metadata": {
        "id": "8RKj8sSXrRSj"
      },
      "id": "8RKj8sSXrRSj"
    },
    {
      "cell_type": "code",
      "source": [],
      "metadata": {
        "id": "woMrxzErrapJ"
      },
      "id": "woMrxzErrapJ",
      "execution_count": null,
      "outputs": []
    }
  ],
  "metadata": {
    "colab": {
      "provenance": []
    },
    "language_info": {
      "name": "python"
    },
    "kernelspec": {
      "name": "python3",
      "display_name": "Python 3"
    }
  },
  "nbformat": 4,
  "nbformat_minor": 5
}