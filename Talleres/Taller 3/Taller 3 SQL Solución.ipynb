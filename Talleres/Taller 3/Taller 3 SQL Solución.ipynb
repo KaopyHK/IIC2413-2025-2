{
  "cells": [
    {
      "cell_type": "markdown",
      "id": "3beabadc",
      "metadata": {
        "id": "3beabadc"
      },
      "source": [
        "# 🧠 Taller 3 - SQL\n",
        "\n",
        "Este taller está diseñado para que practiques consultas SQL usando `ipython-sql` y una base de datos sobre competencias de gimnasia rítmica. A lo largo del taller, trabajarás con tablas que representan gimnastas, conjuntos, campeonatos, instrumentos y evaluaciones.\n",
        "\n",
        "**Objetivos del taller:**\n",
        "- Aprender a crear tablas con claves primarias y foráneas.\n",
        "- Insertar datos en una base SQLite.\n",
        "- Realizar consultas básicas y avanzadas con SQL.\n",
        "- Aplicar funciones de agregación y subconsultas.\n",
        "\n",
        "### Esquema\n",
        "\n",
        "Para esta actividad vamos a trabajar con el siguiente esquema:\n",
        "\n",
        "- `Gimnastas(id_gim, nombre, fecha_nac, id_conj)`\n",
        "- `Conjunto(id_conj, nombre conj)`\n",
        "- `Instrumento(id_inst, nombre_inst)`\n",
        "- `Campeonato(id_camp, nom_camp, fecha_camp)`\n",
        "- `Tipo(id_tipo, nom_tipo)`\n",
        "- `Presentacion(id_pres, id_gim, id_conj, id_inst, id_camp, id_tipo)`\n",
        "- `Evaluacion(Pje_eje, Pje_Dif, Pje_art, id_pres)`\n"
      ]
    },
    {
      "cell_type": "code",
      "execution_count": 2,
      "id": "15306f45",
      "metadata": {
        "id": "15306f45"
      },
      "outputs": [],
      "source": [
        "%load_ext sql\n",
        "%sql sqlite:///gimnasia.db"
      ]
    },
    {
      "cell_type": "markdown",
      "source": [
        "**Ojo**: cada vez que anteponemos `%sql` es porque esa línea corresponde a un comando a SQL que va a la base de datos en la que estamos trabajando (en este caso `gimnasia.db`). Si queremos tener todo un bloque con instrucciones SQL tenemos que usar `%%sql` (habrán ejemplos de esto a lo largo del _notebook_)."
      ],
      "metadata": {
        "id": "ne1ZHaIGG1lc"
      },
      "id": "ne1ZHaIGG1lc"
    },
    {
      "cell_type": "code",
      "source": [],
      "metadata": {
        "id": "icVzoDudUzj1"
      },
      "id": "icVzoDudUzj1",
      "execution_count": null,
      "outputs": []
    },
    {
      "cell_type": "markdown",
      "source": [
        "### Crear tablas\n",
        "\n",
        "Tu primera prueba será crear una base de datos de acuerdo el esquema de arriba. La sintaxis para crear tablas en SQL es la siguiente (si están trabajando desde el cliente, después de cada sentencia SQL debes poner un punto y coma `;`):\n",
        "\n",
        "```SQL\n",
        "CREATE TABLE <Nombre Tabla> (<atributo_1> tipo, ... , <attributo_N> tipo)\n",
        "```\n",
        "\n",
        "Por ejemplo, para crear las tablas de esta actividad el código es el siguiente:"
      ],
      "metadata": {
        "id": "q63e7caNHHyh"
      },
      "id": "q63e7caNHHyh"
    },
    {
      "cell_type": "code",
      "execution_count": 3,
      "id": "a4f96e0e",
      "metadata": {
        "id": "a4f96e0e",
        "colab": {
          "base_uri": "https://localhost:8080/"
        },
        "outputId": "b5a0eb11-86b4-4fe0-bf73-84c8eded2780"
      },
      "outputs": [
        {
          "output_type": "stream",
          "name": "stdout",
          "text": [
            " * sqlite:///gimnasia.db\n",
            "Done.\n",
            "Done.\n",
            "Done.\n",
            "Done.\n",
            "Done.\n",
            "Done.\n",
            "Done.\n",
            "Done.\n",
            "Done.\n",
            "Done.\n",
            "Done.\n",
            "Done.\n",
            "Done.\n",
            "Done.\n"
          ]
        },
        {
          "output_type": "execute_result",
          "data": {
            "text/plain": [
              "[]"
            ]
          },
          "metadata": {},
          "execution_count": 3
        }
      ],
      "source": [
        "\n",
        "%%sql\n",
        "\n",
        "DROP TABLE IF EXISTS Gimnastas;\n",
        "DROP TABLE IF EXISTS Conjuntos;\n",
        "DROP TABLE IF EXISTS Instrumentos;\n",
        "DROP TABLE IF EXISTS Campeonatos;\n",
        "DROP TABLE IF EXISTS Tipos;\n",
        "DROP TABLE IF EXISTS Presentaciones;\n",
        "DROP TABLE IF EXISTS Evaluaciones;\n",
        "\n",
        "CREATE TABLE Conjuntos (\n",
        "    id_conj INTEGER PRIMARY KEY,\n",
        "    nombre_conj TEXT\n",
        ");\n",
        "\n",
        "CREATE TABLE Gimnastas (\n",
        "    id_gim INTEGER PRIMARY KEY,\n",
        "    nombre TEXT,\n",
        "    fecha_nac TEXT,\n",
        "    id_conj INTEGER,\n",
        "    FOREIGN KEY (id_conj) REFERENCES Conjuntos(id_conj)\n",
        ");\n",
        "\n",
        "CREATE TABLE Instrumentos (\n",
        "    id_inst INTEGER PRIMARY KEY,\n",
        "    nombre_inst TEXT\n",
        ");\n",
        "\n",
        "CREATE TABLE Campeonatos (\n",
        "    id_camp INTEGER PRIMARY KEY,\n",
        "    nombre_camp TEXT,\n",
        "    fecha_camp TEXT\n",
        ");\n",
        "\n",
        "CREATE TABLE Tipos (\n",
        "    id_tipo INTEGER PRIMARY KEY,\n",
        "    nombre_tipo TEXT\n",
        ");\n",
        "\n",
        "CREATE TABLE Presentaciones (\n",
        "    id_pres INTEGER PRIMARY KEY,\n",
        "    id_gim INTEGER,\n",
        "    id_conj INTEGER,\n",
        "    id_inst INTEGER,\n",
        "    id_camp INTEGER,\n",
        "    id_tipo INTEGER,\n",
        "    FOREIGN KEY (id_gim) REFERENCES Gimnastas(id_gim),\n",
        "    FOREIGN KEY (id_conj) REFERENCES Conjuntos(id_conj),\n",
        "    FOREIGN KEY (id_inst) REFERENCES Instrumentos(id_inst),\n",
        "    FOREIGN KEY (id_camp) REFERENCES Campeonatos(id_camp),\n",
        "    FOREIGN KEY (id_tipo) REFERENCES Tipos(id_tipo)\n",
        ");\n",
        "\n",
        "CREATE TABLE Evaluaciones (\n",
        "    id_pres INTEGER,\n",
        "    pje_eje REAL,\n",
        "    pje_dif REAL,\n",
        "    pje_art REAL,\n",
        "    PRIMARY KEY (id_pres, pje_eje, pje_art, pje_dif),\n",
        "    FOREIGN KEY (id_pres) REFERENCES Presentaciones(id_pres)\n",
        ");\n"
      ]
    },
    {
      "cell_type": "markdown",
      "source": [
        "En el código anterior, tenemos tablas con llave primaria compuesta. En general, para crear una tabla con llave primaria, lo señalamos al final, de la forma:\n",
        "\n",
        "```SQL\n",
        "CREATE TABLE <Nombre Tabla> (\n",
        "    <atributo_1> tipo, ...,\n",
        "    <attributo_N> tipo,\n",
        "    PRIMARY KEY(<atributos separados por coma (,)>))\n",
        "```"
      ],
      "metadata": {
        "id": "AHMMSlEnMMd2"
      },
      "id": "AHMMSlEnMMd2"
    },
    {
      "cell_type": "markdown",
      "source": [
        "Si la tabla tiene llaves foráneas que hacen referencia a un campo de otra tabla, la sintaxis es la siguiente:\n",
        "\n",
        "```SQL\n",
        "CREATE TABLE <Nombre Tabla> (\n",
        "    <atributo_1> tipo, ...,\n",
        "    <attributo_N> tipo,\n",
        "    PRIMARY KEY(<atributos separados por coma (,)>)\n",
        "    FOREIGN KEY (atributo_X) REFERENCES TABLA(atributo_foraneo))\n",
        "```"
      ],
      "metadata": {
        "id": "c5Csk2p6Mm9X"
      },
      "id": "c5Csk2p6Mm9X"
    },
    {
      "cell_type": "markdown",
      "source": [
        "Si ejecutamos la consulta `SELECT * FROM Conjuntos` notaremos que el resultado es vacío. Esto es evidente, ya que esta consulta me retorna todo lo que tengo en la tabla `Conjuntos` y actualmente no hemos insertado nada."
      ],
      "metadata": {
        "id": "3V_j_qTlPFKl"
      },
      "id": "3V_j_qTlPFKl"
    },
    {
      "cell_type": "code",
      "source": [
        "%config SqlMagic.style = '_DEPRECATED_DEFAULT'\n",
        "%sql Select * from Conjuntos;"
      ],
      "metadata": {
        "id": "O82e2ZeBUHV6",
        "colab": {
          "base_uri": "https://localhost:8080/",
          "height": 76
        },
        "outputId": "b94e4c4e-2c21-448d-b5b4-7d492123d1dd"
      },
      "id": "O82e2ZeBUHV6",
      "execution_count": 4,
      "outputs": [
        {
          "output_type": "stream",
          "name": "stdout",
          "text": [
            " * sqlite:///gimnasia.db\n",
            "Done.\n"
          ]
        },
        {
          "output_type": "execute_result",
          "data": {
            "text/plain": [
              "[]"
            ],
            "text/html": [
              "<table>\n",
              "    <thead>\n",
              "        <tr>\n",
              "            <th>id_conj</th>\n",
              "            <th>nombre_conj</th>\n",
              "        </tr>\n",
              "    </thead>\n",
              "    <tbody>\n",
              "    </tbody>\n",
              "</table>"
            ]
          },
          "metadata": {},
          "execution_count": 4
        }
      ]
    },
    {
      "cell_type": "markdown",
      "source": [
        "### Innsertar Valores\n",
        "\n",
        "Para insertar valores, la forma básica es la siguiente:\n",
        "\n",
        "```SQL\n",
        "INSERT INTO <Nombre Tabla>\n",
        "VALUES (<valor atributo 1> , ..., <valor atributo N>)\n",
        "```\n",
        "\n",
        "Por ejemplo si ejecutamos la consulta:\n",
        "\n",
        "```SQL\n",
        "INSERT INTO Conjuntos VALUES (1, 'Estrellas');\n",
        "```\n",
        "\n",
        "estamos insertando un Conjunto con `id_conj` 1 y `nombre_conj` Estrellas.\n"
      ],
      "metadata": {
        "id": "7WIVbrDMNmIB"
      },
      "id": "7WIVbrDMNmIB"
    },
    {
      "cell_type": "code",
      "source": [
        "%sql INSERT INTO Conjuntos VALUES (1, 'Estrellas');"
      ],
      "metadata": {
        "id": "DH0lbcN0W97w",
        "colab": {
          "base_uri": "https://localhost:8080/"
        },
        "outputId": "2de80f97-0d69-4f23-b30a-a1a7019c9bdc"
      },
      "id": "DH0lbcN0W97w",
      "execution_count": 5,
      "outputs": [
        {
          "output_type": "stream",
          "name": "stdout",
          "text": [
            " * sqlite:///gimnasia.db\n",
            "1 rows affected.\n"
          ]
        },
        {
          "output_type": "execute_result",
          "data": {
            "text/plain": [
              "[]"
            ]
          },
          "metadata": {},
          "execution_count": 5
        }
      ]
    },
    {
      "cell_type": "markdown",
      "source": [
        "Ahora que hemos insertado nuestro primer registro en la base de datos, podremos ejecutar nuevamente la consulta sobre la tabla `Conjuntos` y obtendremos un resultado distinto."
      ],
      "metadata": {
        "id": "jkdbeBZBXKbu"
      },
      "id": "jkdbeBZBXKbu"
    },
    {
      "cell_type": "code",
      "source": [
        "%sql Select * from Conjuntos;"
      ],
      "metadata": {
        "id": "FzV2edMbXHuT",
        "colab": {
          "base_uri": "https://localhost:8080/",
          "height": 97
        },
        "outputId": "a9aebbce-49f2-45ca-b286-c0deb3eb169e"
      },
      "id": "FzV2edMbXHuT",
      "execution_count": 6,
      "outputs": [
        {
          "output_type": "stream",
          "name": "stdout",
          "text": [
            " * sqlite:///gimnasia.db\n",
            "Done.\n"
          ]
        },
        {
          "output_type": "execute_result",
          "data": {
            "text/plain": [
              "[(1, 'Estrellas')]"
            ],
            "text/html": [
              "<table>\n",
              "    <thead>\n",
              "        <tr>\n",
              "            <th>id_conj</th>\n",
              "            <th>nombre_conj</th>\n",
              "        </tr>\n",
              "    </thead>\n",
              "    <tbody>\n",
              "        <tr>\n",
              "            <td>1</td>\n",
              "            <td>Estrellas</td>\n",
              "        </tr>\n",
              "    </tbody>\n",
              "</table>"
            ]
          },
          "metadata": {},
          "execution_count": 6
        }
      ]
    },
    {
      "cell_type": "markdown",
      "source": [
        "A continuación está el código para poblar todas las tablas de la base de datos"
      ],
      "metadata": {
        "id": "yrSl-DwZXv6v"
      },
      "id": "yrSl-DwZXv6v"
    },
    {
      "cell_type": "code",
      "execution_count": 7,
      "id": "edd231f9",
      "metadata": {
        "id": "edd231f9",
        "colab": {
          "base_uri": "https://localhost:8080/"
        },
        "outputId": "24f8abc3-0a1e-4706-ae90-040b93eeb051"
      },
      "outputs": [
        {
          "output_type": "stream",
          "name": "stdout",
          "text": [
            " * sqlite:///gimnasia.db\n",
            "1 rows affected.\n",
            "1 rows affected.\n",
            "1 rows affected.\n",
            "1 rows affected.\n",
            "1 rows affected.\n",
            "1 rows affected.\n",
            "1 rows affected.\n",
            "1 rows affected.\n",
            "1 rows affected.\n",
            "1 rows affected.\n",
            "1 rows affected.\n",
            "1 rows affected.\n",
            "1 rows affected.\n",
            "1 rows affected.\n",
            "1 rows affected.\n",
            "1 rows affected.\n",
            "1 rows affected.\n",
            "1 rows affected.\n",
            "1 rows affected.\n"
          ]
        },
        {
          "output_type": "execute_result",
          "data": {
            "text/plain": [
              "[]"
            ]
          },
          "metadata": {},
          "execution_count": 7
        }
      ],
      "source": [
        "\n",
        "%%sql\n",
        "\n",
        "-- Insertar conjuntos\n",
        "INSERT INTO Conjuntos VALUES (2, 'Fantásticas');\n",
        "INSERT INTO Conjuntos VALUES (3, 'Auroras');\n",
        "\n",
        "-- Insertar gimnastas\n",
        "INSERT INTO Gimnastas VALUES (1, 'Ana Torres', '2005-03-12', 1);\n",
        "INSERT INTO Gimnastas VALUES (2, 'Lucía Pérez', '2006-07-25', 1);\n",
        "INSERT INTO Gimnastas VALUES (3, 'María Gómez', '2004-11-05', 2);\n",
        "\n",
        "-- Insertar instrumentos\n",
        "INSERT INTO Instrumentos VALUES (1, 'Cinta');\n",
        "INSERT INTO Instrumentos VALUES (2, 'Aro');\n",
        "INSERT INTO Instrumentos VALUES (3, 'Manos libres');\n",
        "\n",
        "-- Insertar campeonatos\n",
        "INSERT INTO Campeonatos VALUES (1, 'Campeonato Nacional', '2023-06-15');\n",
        "INSERT INTO Campeonatos VALUES (2, 'Copa Primavera', '2023-09-10');\n",
        "INSERT INTO Campeonatos VALUES (3, 'Copa Invierno', '2025-06-10');\n",
        "\n",
        "\n",
        "-- Insertar tipos\n",
        "INSERT INTO Tipos VALUES (1, 'Individual');\n",
        "INSERT INTO Tipos VALUES (2, 'Conjunto');\n",
        "\n",
        "-- Insertar presentaciones\n",
        "INSERT INTO Presentaciones VALUES (1, 1, NULL, 1, 1, 1);\n",
        "INSERT INTO Presentaciones VALUES (2, NULL, 1, 2, 1, 2);\n",
        "INSERT INTO Presentaciones VALUES (3, 3, NULL, 3, 2, 1);\n",
        "\n",
        "-- Insertar evaluaciones\n",
        "INSERT INTO Evaluaciones VALUES (1, 8.5, 9.0, 8.8);\n",
        "INSERT INTO Evaluaciones VALUES (2, 9.2, 8.7, 9.0);\n",
        "INSERT INTO Evaluaciones VALUES (3, 7.8, 8.0, 8.5);\n"
      ]
    },
    {
      "cell_type": "markdown",
      "source": [],
      "metadata": {
        "id": "JY3pNlIpMzxq"
      },
      "id": "JY3pNlIpMzxq"
    },
    {
      "cell_type": "markdown",
      "source": [
        "Si intentamos ejecutar nuevamente el siguiente código nuevamente, obtendremos un error. No es posible insertar 2 tuplas con la misma llave.\n",
        "\n",
        "```SQL\n",
        "INSERT INTO Conjuntos VALUES (1, 'Estrellas');\n",
        "```"
      ],
      "metadata": {
        "id": "ToJJXGjIX4QR"
      },
      "id": "ToJJXGjIX4QR"
    },
    {
      "cell_type": "code",
      "source": [
        "%sql INSERT INTO Conjuntos VALUES (1, 'Estrellas');"
      ],
      "metadata": {
        "id": "bRdsCGilM15X",
        "colab": {
          "base_uri": "https://localhost:8080/"
        },
        "outputId": "752ebd9b-fd1c-4d45-a00c-21c066e9c371"
      },
      "id": "bRdsCGilM15X",
      "execution_count": 8,
      "outputs": [
        {
          "output_type": "stream",
          "name": "stdout",
          "text": [
            " * sqlite:///gimnasia.db\n",
            "(sqlite3.IntegrityError) UNIQUE constraint failed: Conjuntos.id_conj\n",
            "[SQL: INSERT INTO Conjuntos VALUES (1, 'Estrellas' );]\n",
            "(Background on this error at: https://sqlalche.me/e/20/gkpj)\n"
          ]
        }
      ]
    },
    {
      "cell_type": "markdown",
      "source": [
        "### Ejecución de Consultas\n",
        "\n",
        "Las consultas más básicas son de la forma `SELECT - FROM - WHERE`. En general, la consulta de álgebra relacional:\n",
        "\n",
        "$$\n",
        "\\pi_{a_1, \\dots, a_n}(\\sigma_{\\text{condiciones}}(R_1 \\times R_m))\n",
        "$$\n",
        "\n",
        "se traduce en SQL como:\n",
        "\n",
        "```SQL\n",
        "SELECT a_1, ..., a_n\n",
        "FROM R_1, ..., R_m\n",
        "WHERE <condiciones>\n",
        "```\n",
        "Prueba la siguiente consulta:"
      ],
      "metadata": {
        "id": "K_lk_OOkYpcr"
      },
      "id": "K_lk_OOkYpcr"
    },
    {
      "cell_type": "code",
      "source": [
        "%%sql\n",
        "Select *\n",
        "From Gimnastas\n",
        "Where id_gim = 1;"
      ],
      "metadata": {
        "id": "AMcxt99lYpJr",
        "colab": {
          "base_uri": "https://localhost:8080/",
          "height": 97
        },
        "outputId": "f331ce39-dab4-40e9-cf5d-03a6faf10c06"
      },
      "id": "AMcxt99lYpJr",
      "execution_count": 9,
      "outputs": [
        {
          "output_type": "stream",
          "name": "stdout",
          "text": [
            " * sqlite:///gimnasia.db\n",
            "Done.\n"
          ]
        },
        {
          "output_type": "execute_result",
          "data": {
            "text/plain": [
              "[(1, 'Ana Torres', '2005-03-12', 1)]"
            ],
            "text/html": [
              "<table>\n",
              "    <thead>\n",
              "        <tr>\n",
              "            <th>id_gim</th>\n",
              "            <th>nombre</th>\n",
              "            <th>fecha_nac</th>\n",
              "            <th>id_conj</th>\n",
              "        </tr>\n",
              "    </thead>\n",
              "    <tbody>\n",
              "        <tr>\n",
              "            <td>1</td>\n",
              "            <td>Ana Torres</td>\n",
              "            <td>2005-03-12</td>\n",
              "            <td>1</td>\n",
              "        </tr>\n",
              "    </tbody>\n",
              "</table>"
            ]
          },
          "metadata": {},
          "execution_count": 9
        }
      ]
    },
    {
      "cell_type": "markdown",
      "source": [
        "Para realizar un Join de tablas la sintaxis es\n",
        "```SQL\n",
        "SELECT a_1, ..., a_n\n",
        "FROM R_1, ..., R_m\n",
        "WHERE R_1.a_1 = R_j.aj;\n",
        "```\n",
        "Probemos ejecutando las siguientes consultas que obtiene la información de las gimnastas que pertenecen al conjunto **Estrellas**.\n",
        "\n",
        "Se incluyen las sintaxis usando `Where` o usando `Join`\n"
      ],
      "metadata": {
        "id": "r29zMmsXZsew"
      },
      "id": "r29zMmsXZsew"
    },
    {
      "cell_type": "code",
      "source": [
        "%%sql\n",
        "Select *\n",
        "From Gimnastas as G,\n",
        "  Conjuntos as C\n",
        "Where G.id_conj = C.id_conj\n",
        "  And C.nombre_conj = 'Estrellas';"
      ],
      "metadata": {
        "id": "bveIwdUlb-gk",
        "colab": {
          "base_uri": "https://localhost:8080/",
          "height": 119
        },
        "outputId": "530d3c26-e81a-492b-b1f9-0ffbb10d06a3"
      },
      "id": "bveIwdUlb-gk",
      "execution_count": 10,
      "outputs": [
        {
          "output_type": "stream",
          "name": "stdout",
          "text": [
            " * sqlite:///gimnasia.db\n",
            "Done.\n"
          ]
        },
        {
          "output_type": "execute_result",
          "data": {
            "text/plain": [
              "[(1, 'Ana Torres', '2005-03-12', 1, 1, 'Estrellas'),\n",
              " (2, 'Lucía Pérez', '2006-07-25', 1, 1, 'Estrellas')]"
            ],
            "text/html": [
              "<table>\n",
              "    <thead>\n",
              "        <tr>\n",
              "            <th>id_gim</th>\n",
              "            <th>nombre</th>\n",
              "            <th>fecha_nac</th>\n",
              "            <th>id_conj</th>\n",
              "            <th>id_conj_1</th>\n",
              "            <th>nombre_conj</th>\n",
              "        </tr>\n",
              "    </thead>\n",
              "    <tbody>\n",
              "        <tr>\n",
              "            <td>1</td>\n",
              "            <td>Ana Torres</td>\n",
              "            <td>2005-03-12</td>\n",
              "            <td>1</td>\n",
              "            <td>1</td>\n",
              "            <td>Estrellas</td>\n",
              "        </tr>\n",
              "        <tr>\n",
              "            <td>2</td>\n",
              "            <td>Lucía Pérez</td>\n",
              "            <td>2006-07-25</td>\n",
              "            <td>1</td>\n",
              "            <td>1</td>\n",
              "            <td>Estrellas</td>\n",
              "        </tr>\n",
              "    </tbody>\n",
              "</table>"
            ]
          },
          "metadata": {},
          "execution_count": 10
        }
      ]
    },
    {
      "cell_type": "code",
      "source": [
        "%%sql\n",
        "Select *\n",
        "From Gimnastas as G\n",
        "  Join Conjuntos as C On G.id_conj = C.id_conj\n",
        "Where C.nombre_conj = 'Estrellas';"
      ],
      "metadata": {
        "id": "h5OQVye3c9aD",
        "colab": {
          "base_uri": "https://localhost:8080/",
          "height": 119
        },
        "outputId": "905cacd5-5ade-449d-ff50-41bb7aa025cf"
      },
      "id": "h5OQVye3c9aD",
      "execution_count": 11,
      "outputs": [
        {
          "output_type": "stream",
          "name": "stdout",
          "text": [
            " * sqlite:///gimnasia.db\n",
            "Done.\n"
          ]
        },
        {
          "output_type": "execute_result",
          "data": {
            "text/plain": [
              "[(1, 'Ana Torres', '2005-03-12', 1, 1, 'Estrellas'),\n",
              " (2, 'Lucía Pérez', '2006-07-25', 1, 1, 'Estrellas')]"
            ],
            "text/html": [
              "<table>\n",
              "    <thead>\n",
              "        <tr>\n",
              "            <th>id_gim</th>\n",
              "            <th>nombre</th>\n",
              "            <th>fecha_nac</th>\n",
              "            <th>id_conj</th>\n",
              "            <th>id_conj_1</th>\n",
              "            <th>nombre_conj</th>\n",
              "        </tr>\n",
              "    </thead>\n",
              "    <tbody>\n",
              "        <tr>\n",
              "            <td>1</td>\n",
              "            <td>Ana Torres</td>\n",
              "            <td>2005-03-12</td>\n",
              "            <td>1</td>\n",
              "            <td>1</td>\n",
              "            <td>Estrellas</td>\n",
              "        </tr>\n",
              "        <tr>\n",
              "            <td>2</td>\n",
              "            <td>Lucía Pérez</td>\n",
              "            <td>2006-07-25</td>\n",
              "            <td>1</td>\n",
              "            <td>1</td>\n",
              "            <td>Estrellas</td>\n",
              "        </tr>\n",
              "    </tbody>\n",
              "</table>"
            ]
          },
          "metadata": {},
          "execution_count": 11
        }
      ]
    },
    {
      "cell_type": "markdown",
      "id": "613ca83e",
      "metadata": {
        "id": "613ca83e"
      },
      "source": [
        "## 🏋️ Ejercicios\n",
        "\n",
        "Responde los siguientes ejercicios usando consultas SQL.\n",
        "\n",
        "**1.** Listar todos los campeonatos que se realizaron en el año 2023.\n",
        "\n",
        "\n",
        "\n",
        "\n",
        "\n",
        "\n",
        "\n",
        "\n",
        "\n",
        "\n",
        "\n",
        "\n",
        "\n",
        "\n",
        "\n",
        "\n",
        "\n",
        "\n",
        "\n",
        "\n",
        "\n",
        "\n",
        "\n"
      ]
    },
    {
      "cell_type": "code",
      "source": [
        "%%sql\n",
        "-- Solución 1\n",
        "select *\n",
        "from campeonatos\n",
        "where fecha_camp like '2023%';"
      ],
      "metadata": {
        "id": "u6l4cvNoqEg_",
        "colab": {
          "base_uri": "https://localhost:8080/",
          "height": 119
        },
        "outputId": "ac980371-72d5-41b1-ba30-949752e173d5"
      },
      "id": "u6l4cvNoqEg_",
      "execution_count": 18,
      "outputs": [
        {
          "output_type": "stream",
          "name": "stdout",
          "text": [
            " * sqlite:///gimnasia.db\n",
            "Done.\n"
          ]
        },
        {
          "output_type": "execute_result",
          "data": {
            "text/plain": [
              "[(1, 'Campeonato Nacional', '2023-06-15'), (2, 'Copa Primavera', '2023-09-10')]"
            ],
            "text/html": [
              "<table>\n",
              "    <thead>\n",
              "        <tr>\n",
              "            <th>id_camp</th>\n",
              "            <th>nombre_camp</th>\n",
              "            <th>fecha_camp</th>\n",
              "        </tr>\n",
              "    </thead>\n",
              "    <tbody>\n",
              "        <tr>\n",
              "            <td>1</td>\n",
              "            <td>Campeonato Nacional</td>\n",
              "            <td>2023-06-15</td>\n",
              "        </tr>\n",
              "        <tr>\n",
              "            <td>2</td>\n",
              "            <td>Copa Primavera</td>\n",
              "            <td>2023-09-10</td>\n",
              "        </tr>\n",
              "    </tbody>\n",
              "</table>"
            ]
          },
          "metadata": {},
          "execution_count": 18
        }
      ]
    },
    {
      "cell_type": "code",
      "source": [
        "%%sql\n",
        "-- Solución 2\n",
        "select *\n",
        "from campeonatos\n",
        "where substr(fecha_camp, 1, 4) = '2023';"
      ],
      "metadata": {
        "colab": {
          "base_uri": "https://localhost:8080/",
          "height": 119
        },
        "id": "9tRI83g790ms",
        "outputId": "aabbbb8b-83ef-4748-be90-7d1954b4324a"
      },
      "id": "9tRI83g790ms",
      "execution_count": 16,
      "outputs": [
        {
          "output_type": "stream",
          "name": "stdout",
          "text": [
            " * sqlite:///gimnasia.db\n",
            "Done.\n"
          ]
        },
        {
          "output_type": "execute_result",
          "data": {
            "text/plain": [
              "[(1, 'Campeonato Nacional', '2023-06-15'), (2, 'Copa Primavera', '2023-09-10')]"
            ],
            "text/html": [
              "<table>\n",
              "    <thead>\n",
              "        <tr>\n",
              "            <th>id_camp</th>\n",
              "            <th>nombre_camp</th>\n",
              "            <th>fecha_camp</th>\n",
              "        </tr>\n",
              "    </thead>\n",
              "    <tbody>\n",
              "        <tr>\n",
              "            <td>1</td>\n",
              "            <td>Campeonato Nacional</td>\n",
              "            <td>2023-06-15</td>\n",
              "        </tr>\n",
              "        <tr>\n",
              "            <td>2</td>\n",
              "            <td>Copa Primavera</td>\n",
              "            <td>2023-09-10</td>\n",
              "        </tr>\n",
              "    </tbody>\n",
              "</table>"
            ]
          },
          "metadata": {},
          "execution_count": 16
        }
      ]
    },
    {
      "cell_type": "code",
      "source": [
        "%%sql\n",
        "-- Solución 3\n",
        "select *\n",
        "from campeonatos\n",
        "where date(fecha_camp) between '2023-01-01' and '2023-12-31';"
      ],
      "metadata": {
        "colab": {
          "base_uri": "https://localhost:8080/",
          "height": 119
        },
        "id": "ZMedoh1k97fT",
        "outputId": "ed518acc-416b-43cd-b868-49bb5466d7de"
      },
      "id": "ZMedoh1k97fT",
      "execution_count": 17,
      "outputs": [
        {
          "output_type": "stream",
          "name": "stdout",
          "text": [
            " * sqlite:///gimnasia.db\n",
            "Done.\n"
          ]
        },
        {
          "output_type": "execute_result",
          "data": {
            "text/plain": [
              "[(1, 'Campeonato Nacional', '2023-06-15'), (2, 'Copa Primavera', '2023-09-10')]"
            ],
            "text/html": [
              "<table>\n",
              "    <thead>\n",
              "        <tr>\n",
              "            <th>id_camp</th>\n",
              "            <th>nombre_camp</th>\n",
              "            <th>fecha_camp</th>\n",
              "        </tr>\n",
              "    </thead>\n",
              "    <tbody>\n",
              "        <tr>\n",
              "            <td>1</td>\n",
              "            <td>Campeonato Nacional</td>\n",
              "            <td>2023-06-15</td>\n",
              "        </tr>\n",
              "        <tr>\n",
              "            <td>2</td>\n",
              "            <td>Copa Primavera</td>\n",
              "            <td>2023-09-10</td>\n",
              "        </tr>\n",
              "    </tbody>\n",
              "</table>"
            ]
          },
          "metadata": {},
          "execution_count": 17
        }
      ]
    },
    {
      "cell_type": "markdown",
      "source": [
        "**2.** Listar todas las gimnastas menores de 18 años."
      ],
      "metadata": {
        "id": "lG9yxvPEqRYb"
      },
      "id": "lG9yxvPEqRYb"
    },
    {
      "cell_type": "code",
      "source": [
        "%%sql\n",
        "-- Solución 1 sólo considerando años\n",
        "\n",
        "select *, date('now') - date(fecha_nac) as edad\n",
        "from gimnastas\n",
        "where date('now') - date(fecha_nac) < 18;"
      ],
      "metadata": {
        "id": "1do_X4htqIXE",
        "colab": {
          "base_uri": "https://localhost:8080/",
          "height": 76
        },
        "outputId": "f081ff9f-d724-4681-ab9f-4c50f446051a"
      },
      "id": "1do_X4htqIXE",
      "execution_count": 24,
      "outputs": [
        {
          "output_type": "stream",
          "name": "stdout",
          "text": [
            " * sqlite:///gimnasia.db\n",
            "Done.\n"
          ]
        },
        {
          "output_type": "execute_result",
          "data": {
            "text/plain": [
              "[]"
            ],
            "text/html": [
              "<table>\n",
              "    <thead>\n",
              "        <tr>\n",
              "            <th>id_gim</th>\n",
              "            <th>nombre</th>\n",
              "            <th>fecha_nac</th>\n",
              "            <th>id_conj</th>\n",
              "            <th>edad</th>\n",
              "        </tr>\n",
              "    </thead>\n",
              "    <tbody>\n",
              "    </tbody>\n",
              "</table>"
            ]
          },
          "metadata": {},
          "execution_count": 24
        }
      ]
    },
    {
      "cell_type": "code",
      "source": [
        "%%sql\n",
        "-- Solución 2 considereando fecha de nacimiento completa\n",
        "select *\n",
        "from gimnastas\n",
        "where julianday('now') - julianday(fecha_nac) < 18 * 365;"
      ],
      "metadata": {
        "colab": {
          "base_uri": "https://localhost:8080/",
          "height": 76
        },
        "id": "uFIjE1dK_kiu",
        "outputId": "bddcddbc-3524-4f92-9b71-5fc85e94fe37"
      },
      "id": "uFIjE1dK_kiu",
      "execution_count": 23,
      "outputs": [
        {
          "output_type": "stream",
          "name": "stdout",
          "text": [
            " * sqlite:///gimnasia.db\n",
            "Done.\n"
          ]
        },
        {
          "output_type": "execute_result",
          "data": {
            "text/plain": [
              "[]"
            ],
            "text/html": [
              "<table>\n",
              "    <thead>\n",
              "        <tr>\n",
              "            <th>id_gim</th>\n",
              "            <th>nombre</th>\n",
              "            <th>fecha_nac</th>\n",
              "            <th>id_conj</th>\n",
              "        </tr>\n",
              "    </thead>\n",
              "    <tbody>\n",
              "    </tbody>\n",
              "</table>"
            ]
          },
          "metadata": {},
          "execution_count": 23
        }
      ]
    },
    {
      "cell_type": "markdown",
      "source": [
        "**3.** Insertar los instrumentos `Balón` y `Àro` en la tabla instrumentos"
      ],
      "metadata": {
        "id": "0C87O4d2qUux"
      },
      "id": "0C87O4d2qUux"
    },
    {
      "cell_type": "code",
      "source": [
        "%%sql\n",
        "insert into instrumentos values (4, 'Balón');\n",
        "-- Aro existe ya existe en la tabla\n",
        "insert into instrumentos values (5, 'Aro');"
      ],
      "metadata": {
        "id": "QMckICjIqKYy",
        "colab": {
          "base_uri": "https://localhost:8080/"
        },
        "outputId": "a8e73516-c030-4440-84db-95f9d25f571e"
      },
      "id": "QMckICjIqKYy",
      "execution_count": 25,
      "outputs": [
        {
          "output_type": "stream",
          "name": "stdout",
          "text": [
            " * sqlite:///gimnasia.db\n",
            "1 rows affected.\n",
            "1 rows affected.\n"
          ]
        },
        {
          "output_type": "execute_result",
          "data": {
            "text/plain": [
              "[]"
            ]
          },
          "metadata": {},
          "execution_count": 25
        }
      ]
    },
    {
      "cell_type": "markdown",
      "source": [
        "**4.** Crear presentaciones `Ìndividuales` con los instrumentos `Balón`y `Àro`."
      ],
      "metadata": {
        "id": "axPJK2cgqaQZ"
      },
      "id": "axPJK2cgqaQZ"
    },
    {
      "cell_type": "code",
      "source": [
        "%%sql\n",
        "insert into presentaciones values (4, 1, null, 4, 1, 1);\n",
        "insert into presentaciones values (5, 1, null, 5, 1, 1);"
      ],
      "metadata": {
        "id": "ZhbDtZJAqKPJ",
        "colab": {
          "base_uri": "https://localhost:8080/"
        },
        "outputId": "243e3a1c-24ea-491b-be44-45bb471155ed"
      },
      "id": "ZhbDtZJAqKPJ",
      "execution_count": 26,
      "outputs": [
        {
          "output_type": "stream",
          "name": "stdout",
          "text": [
            " * sqlite:///gimnasia.db\n",
            "1 rows affected.\n",
            "1 rows affected.\n"
          ]
        },
        {
          "output_type": "execute_result",
          "data": {
            "text/plain": [
              "[]"
            ]
          },
          "metadata": {},
          "execution_count": 26
        }
      ]
    },
    {
      "cell_type": "markdown",
      "source": [
        "**5.** Crear presentaciones `Conjunto` con los instrumentos `Balón`y `Àro`."
      ],
      "metadata": {
        "id": "t1cV4nMVqg_o"
      },
      "id": "t1cV4nMVqg_o"
    },
    {
      "cell_type": "code",
      "source": [
        "%%sql\n",
        "insert into presentaciones values (6, null, 1, 4, 1, 2);\n",
        "insert into presentaciones values (7, null, 1, 5, 1, 2);"
      ],
      "metadata": {
        "id": "NUpa-JkmqKE_",
        "colab": {
          "base_uri": "https://localhost:8080/"
        },
        "outputId": "1dc37877-3dc1-41ca-83b6-924dbea3e30d"
      },
      "id": "NUpa-JkmqKE_",
      "execution_count": 27,
      "outputs": [
        {
          "output_type": "stream",
          "name": "stdout",
          "text": [
            " * sqlite:///gimnasia.db\n",
            "1 rows affected.\n",
            "1 rows affected.\n"
          ]
        },
        {
          "output_type": "execute_result",
          "data": {
            "text/plain": [
              "[]"
            ]
          },
          "metadata": {},
          "execution_count": 27
        }
      ]
    },
    {
      "cell_type": "markdown",
      "source": [
        "**6.** Listar todas las gimnastas con el nombre de su conjunto."
      ],
      "metadata": {
        "id": "tu0gaxniqq0h"
      },
      "id": "tu0gaxniqq0h"
    },
    {
      "cell_type": "code",
      "source": [
        "%%sql\n",
        "select g.nombre, c.nombre_conj\n",
        "from gimnastas as g\n",
        "join conjuntos as c on g.id_conj = c.id_conj;"
      ],
      "metadata": {
        "id": "4DHxanpnqJ5A",
        "colab": {
          "base_uri": "https://localhost:8080/",
          "height": 140
        },
        "outputId": "9554de65-ca78-4ce1-cf38-b84a799b3712"
      },
      "id": "4DHxanpnqJ5A",
      "execution_count": 28,
      "outputs": [
        {
          "output_type": "stream",
          "name": "stdout",
          "text": [
            " * sqlite:///gimnasia.db\n",
            "Done.\n"
          ]
        },
        {
          "output_type": "execute_result",
          "data": {
            "text/plain": [
              "[('Ana Torres', 'Estrellas'),\n",
              " ('Lucía Pérez', 'Estrellas'),\n",
              " ('María Gómez', 'Fantásticas')]"
            ],
            "text/html": [
              "<table>\n",
              "    <thead>\n",
              "        <tr>\n",
              "            <th>nombre</th>\n",
              "            <th>nombre_conj</th>\n",
              "        </tr>\n",
              "    </thead>\n",
              "    <tbody>\n",
              "        <tr>\n",
              "            <td>Ana Torres</td>\n",
              "            <td>Estrellas</td>\n",
              "        </tr>\n",
              "        <tr>\n",
              "            <td>Lucía Pérez</td>\n",
              "            <td>Estrellas</td>\n",
              "        </tr>\n",
              "        <tr>\n",
              "            <td>María Gómez</td>\n",
              "            <td>Fantásticas</td>\n",
              "        </tr>\n",
              "    </tbody>\n",
              "</table>"
            ]
          },
          "metadata": {},
          "execution_count": 28
        }
      ]
    },
    {
      "cell_type": "markdown",
      "source": [
        "**7.** Mostrar las presentaciones individuales con el nombre del instrumento y el puntaje artístico."
      ],
      "metadata": {
        "id": "DroQsiZnqvWq"
      },
      "id": "DroQsiZnqvWq"
    },
    {
      "cell_type": "code",
      "source": [
        "%%sql\n",
        "select p.id_pres, i.nombre_inst, e.pje_eje\n",
        "from presentaciones as p\n",
        "join instrumentos as i on p.id_inst = i.id_inst\n",
        "join evaluaciones as e on p.id_pres = e.id_pres"
      ],
      "metadata": {
        "id": "OgnqMyTmqJfN",
        "colab": {
          "base_uri": "https://localhost:8080/",
          "height": 140
        },
        "outputId": "9c30c227-a215-475d-962f-7efb0190d21c"
      },
      "id": "OgnqMyTmqJfN",
      "execution_count": 29,
      "outputs": [
        {
          "output_type": "stream",
          "name": "stdout",
          "text": [
            " * sqlite:///gimnasia.db\n",
            "Done.\n"
          ]
        },
        {
          "output_type": "execute_result",
          "data": {
            "text/plain": [
              "[(1, 'Cinta', 8.5), (2, 'Aro', 9.2), (3, 'Manos libres', 7.8)]"
            ],
            "text/html": [
              "<table>\n",
              "    <thead>\n",
              "        <tr>\n",
              "            <th>id_pres</th>\n",
              "            <th>nombre_inst</th>\n",
              "            <th>pje_eje</th>\n",
              "        </tr>\n",
              "    </thead>\n",
              "    <tbody>\n",
              "        <tr>\n",
              "            <td>1</td>\n",
              "            <td>Cinta</td>\n",
              "            <td>8.5</td>\n",
              "        </tr>\n",
              "        <tr>\n",
              "            <td>2</td>\n",
              "            <td>Aro</td>\n",
              "            <td>9.2</td>\n",
              "        </tr>\n",
              "        <tr>\n",
              "            <td>3</td>\n",
              "            <td>Manos libres</td>\n",
              "            <td>7.8</td>\n",
              "        </tr>\n",
              "    </tbody>\n",
              "</table>"
            ]
          },
          "metadata": {},
          "execution_count": 29
        }
      ]
    },
    {
      "cell_type": "markdown",
      "source": [
        "\n",
        "**8.** Listar los nombres de los conjuntos que han participado en el 'Campeonato Nacional'."
      ],
      "metadata": {
        "id": "KdUntewFq0Tl"
      },
      "id": "KdUntewFq0Tl"
    },
    {
      "cell_type": "code",
      "source": [
        "%%sql\n",
        "select distinct c.nombre_conj\n",
        "from conjuntos as c\n",
        "join presentaciones as p on c.id_conj = p.id_conj\n",
        "join campeonatos as ca on p.id_camp = ca.id_camp\n",
        "where ca.nombre_camp = 'Campeonato Nacional';"
      ],
      "metadata": {
        "id": "7aIp6onjqI-r",
        "colab": {
          "base_uri": "https://localhost:8080/",
          "height": 97
        },
        "outputId": "7f12eccc-cc4e-47a9-f212-716ccc5a6045"
      },
      "id": "7aIp6onjqI-r",
      "execution_count": 30,
      "outputs": [
        {
          "output_type": "stream",
          "name": "stdout",
          "text": [
            " * sqlite:///gimnasia.db\n",
            "Done.\n"
          ]
        },
        {
          "output_type": "execute_result",
          "data": {
            "text/plain": [
              "[('Estrellas',)]"
            ],
            "text/html": [
              "<table>\n",
              "    <thead>\n",
              "        <tr>\n",
              "            <th>nombre_conj</th>\n",
              "        </tr>\n",
              "    </thead>\n",
              "    <tbody>\n",
              "        <tr>\n",
              "            <td>Estrellas</td>\n",
              "        </tr>\n",
              "    </tbody>\n",
              "</table>"
            ]
          },
          "metadata": {},
          "execution_count": 30
        }
      ]
    },
    {
      "cell_type": "markdown",
      "source": [
        "**9.** Mostrar el nombre de la gimnasta con el mayor puntaje de dificultad."
      ],
      "metadata": {
        "id": "Xd8-_U1Dq4fg"
      },
      "id": "Xd8-_U1Dq4fg"
    },
    {
      "cell_type": "code",
      "source": [
        "%%sql\n",
        "select g.nombre, max(e.pje_dif)\n",
        "from gimnastas as g\n",
        "join presentaciones as p on g.id_gim = p.id_gim\n",
        "join evaluaciones as e on p.id_pres = e.id_pres"
      ],
      "metadata": {
        "id": "f23iv5qqqrff",
        "colab": {
          "base_uri": "https://localhost:8080/",
          "height": 97
        },
        "outputId": "0ef85501-d2b4-4bda-8393-30c5c02b55bf"
      },
      "id": "f23iv5qqqrff",
      "execution_count": 31,
      "outputs": [
        {
          "output_type": "stream",
          "name": "stdout",
          "text": [
            " * sqlite:///gimnasia.db\n",
            "Done.\n"
          ]
        },
        {
          "output_type": "execute_result",
          "data": {
            "text/plain": [
              "[('Ana Torres', 9.0)]"
            ],
            "text/html": [
              "<table>\n",
              "    <thead>\n",
              "        <tr>\n",
              "            <th>nombre</th>\n",
              "            <th>max(e.pje_dif)</th>\n",
              "        </tr>\n",
              "    </thead>\n",
              "    <tbody>\n",
              "        <tr>\n",
              "            <td>Ana Torres</td>\n",
              "            <td>9.0</td>\n",
              "        </tr>\n",
              "    </tbody>\n",
              "</table>"
            ]
          },
          "metadata": {},
          "execution_count": 31
        }
      ]
    },
    {
      "cell_type": "markdown",
      "source": [
        "**10.** Contar cuántas presentaciones se han realizado por cada instrumento."
      ],
      "metadata": {
        "id": "UIxkiz4Vq9is"
      },
      "id": "UIxkiz4Vq9is"
    },
    {
      "cell_type": "code",
      "source": [
        "%%sql\n",
        "select i.nombre_inst, count(p.id_pres)\n",
        "from instrumentos as i\n",
        "left join presentaciones as p on i.id_inst = p.id_inst\n",
        "group by i.nombre_inst;"
      ],
      "metadata": {
        "id": "lOlnHqpprHoA",
        "colab": {
          "base_uri": "https://localhost:8080/",
          "height": 162
        },
        "outputId": "c51a1f07-5f44-40e0-fbc9-ae0dffd1c1ee"
      },
      "id": "lOlnHqpprHoA",
      "execution_count": 32,
      "outputs": [
        {
          "output_type": "stream",
          "name": "stdout",
          "text": [
            " * sqlite:///gimnasia.db\n",
            "Done.\n"
          ]
        },
        {
          "output_type": "execute_result",
          "data": {
            "text/plain": [
              "[('Aro', 3), ('Balón', 2), ('Cinta', 1), ('Manos libres', 1)]"
            ],
            "text/html": [
              "<table>\n",
              "    <thead>\n",
              "        <tr>\n",
              "            <th>nombre_inst</th>\n",
              "            <th>count(p.id_pres)</th>\n",
              "        </tr>\n",
              "    </thead>\n",
              "    <tbody>\n",
              "        <tr>\n",
              "            <td>Aro</td>\n",
              "            <td>3</td>\n",
              "        </tr>\n",
              "        <tr>\n",
              "            <td>Balón</td>\n",
              "            <td>2</td>\n",
              "        </tr>\n",
              "        <tr>\n",
              "            <td>Cinta</td>\n",
              "            <td>1</td>\n",
              "        </tr>\n",
              "        <tr>\n",
              "            <td>Manos libres</td>\n",
              "            <td>1</td>\n",
              "        </tr>\n",
              "    </tbody>\n",
              "</table>"
            ]
          },
          "metadata": {},
          "execution_count": 32
        }
      ]
    },
    {
      "cell_type": "markdown",
      "source": [
        "**11.** Listar los campeonatos en los que ha participado la gimnasta 'Ana Torres'."
      ],
      "metadata": {
        "id": "V2XLQT7orMRq"
      },
      "id": "V2XLQT7orMRq"
    },
    {
      "cell_type": "code",
      "source": [
        "%%sql\n",
        "select distinct ca.nombre_camp\n",
        "from campeonatos as ca\n",
        "join presentaciones as p on ca.id_camp = p.id_camp\n",
        "join gimnastas as g on p.id_gim = g.id_gim\n",
        "where g.nombre = 'Ana Torres';"
      ],
      "metadata": {
        "id": "swMDkuTurVPt",
        "colab": {
          "base_uri": "https://localhost:8080/",
          "height": 97
        },
        "outputId": "2a2820b6-78b1-408b-d51c-f944d3fcd49c"
      },
      "id": "swMDkuTurVPt",
      "execution_count": 34,
      "outputs": [
        {
          "output_type": "stream",
          "name": "stdout",
          "text": [
            " * sqlite:///gimnasia.db\n",
            "Done.\n"
          ]
        },
        {
          "output_type": "execute_result",
          "data": {
            "text/plain": [
              "[('Campeonato Nacional',)]"
            ],
            "text/html": [
              "<table>\n",
              "    <thead>\n",
              "        <tr>\n",
              "            <th>nombre_camp</th>\n",
              "        </tr>\n",
              "    </thead>\n",
              "    <tbody>\n",
              "        <tr>\n",
              "            <td>Campeonato Nacional</td>\n",
              "        </tr>\n",
              "    </tbody>\n",
              "</table>"
            ]
          },
          "metadata": {},
          "execution_count": 34
        }
      ]
    },
    {
      "cell_type": "markdown",
      "source": [
        "**12.** Listar todas las presentaciones junto con el nombre del campeonato, tipo de presentación y puntajes."
      ],
      "metadata": {
        "id": "8RKj8sSXrRSj"
      },
      "id": "8RKj8sSXrRSj"
    },
    {
      "cell_type": "code",
      "source": [
        "%%sql\n",
        "select p.id_pres, ca.nombre_camp, t.nombre_tipo, e.pje_eje, e.pje_dif, e.pje_art\n",
        "from presentaciones as p\n",
        "join campeonatos as ca on p.id_camp = ca.id_camp\n",
        "join tipos as t on p.id_tipo = t.id_tipo\n",
        "join evaluaciones as e on p.id_pres = e.id_pres;"
      ],
      "metadata": {
        "id": "woMrxzErrapJ",
        "colab": {
          "base_uri": "https://localhost:8080/",
          "height": 140
        },
        "outputId": "e7886ced-19f0-4338-8f07-833f0ba29abf"
      },
      "id": "woMrxzErrapJ",
      "execution_count": 37,
      "outputs": [
        {
          "output_type": "stream",
          "name": "stdout",
          "text": [
            " * sqlite:///gimnasia.db\n",
            "Done.\n"
          ]
        },
        {
          "output_type": "execute_result",
          "data": {
            "text/plain": [
              "[(1, 'Campeonato Nacional', 'Individual', 8.5, 9.0, 8.8),\n",
              " (2, 'Campeonato Nacional', 'Conjunto', 9.2, 8.7, 9.0),\n",
              " (3, 'Copa Primavera', 'Individual', 7.8, 8.0, 8.5)]"
            ],
            "text/html": [
              "<table>\n",
              "    <thead>\n",
              "        <tr>\n",
              "            <th>id_pres</th>\n",
              "            <th>nombre_camp</th>\n",
              "            <th>nombre_tipo</th>\n",
              "            <th>pje_eje</th>\n",
              "            <th>pje_dif</th>\n",
              "            <th>pje_art</th>\n",
              "        </tr>\n",
              "    </thead>\n",
              "    <tbody>\n",
              "        <tr>\n",
              "            <td>1</td>\n",
              "            <td>Campeonato Nacional</td>\n",
              "            <td>Individual</td>\n",
              "            <td>8.5</td>\n",
              "            <td>9.0</td>\n",
              "            <td>8.8</td>\n",
              "        </tr>\n",
              "        <tr>\n",
              "            <td>2</td>\n",
              "            <td>Campeonato Nacional</td>\n",
              "            <td>Conjunto</td>\n",
              "            <td>9.2</td>\n",
              "            <td>8.7</td>\n",
              "            <td>9.0</td>\n",
              "        </tr>\n",
              "        <tr>\n",
              "            <td>3</td>\n",
              "            <td>Copa Primavera</td>\n",
              "            <td>Individual</td>\n",
              "            <td>7.8</td>\n",
              "            <td>8.0</td>\n",
              "            <td>8.5</td>\n",
              "        </tr>\n",
              "    </tbody>\n",
              "</table>"
            ]
          },
          "metadata": {},
          "execution_count": 37
        }
      ]
    }
  ],
  "metadata": {
    "colab": {
      "provenance": []
    },
    "language_info": {
      "name": "python"
    },
    "kernelspec": {
      "name": "python3",
      "display_name": "Python 3"
    }
  },
  "nbformat": 4,
  "nbformat_minor": 5
}